{
  "cells": [
    {
      "cell_type": "code",
      "execution_count": null,
      "metadata": {
        "id": "-wA39-UpMhob"
      },
      "outputs": [],
      "source": [
        "import nltk\n",
        "import pandas as pd\n",
        "import numpy as np\n",
        "import matplotlib.pyplot as plt"
      ]
    },
    {
      "cell_type": "code",
      "execution_count": null,
      "metadata": {
        "colab": {
          "base_uri": "https://localhost:8080/"
        },
        "id": "MU3pYHvBwq2O",
        "outputId": "59b5a49b-0a24-4f77-a5c4-5b2384d730cb"
      },
      "outputs": [
        {
          "name": "stdout",
          "output_type": "stream",
          "text": [
            "Mounted at /content/drive\n"
          ]
        }
      ],
      "source": [
        "from google.colab import drive\n",
        "drive.mount('/content/drive')"
      ]
    },
    {
      "cell_type": "code",
      "execution_count": null,
      "metadata": {
        "id": "sGYEE2hxx6a9"
      },
      "outputs": [],
      "source": [
        "def read_book(title_path):\n",
        "    with open(title_path, \"r\", encoding =\"utf8\") as current_file:\n",
        "        text = current_file.read()\n",
        "        text = text.replace(\"\\n\", \"\").replace(\"\\r\", \"\")\n",
        "    return text"
      ]
    },
    {
      "cell_type": "code",
      "execution_count": null,
      "metadata": {
        "id": "gD2Sd8ley9Wk"
      },
      "outputs": [],
      "source": [
        "book1 = read_book('drive/MyDrive/Harry_potter_ell881/Book1.txt')\n",
        "book2 = read_book('drive/MyDrive/Harry_potter_ell881/Book2.txt')\n",
        "book3 = read_book('drive/MyDrive/Harry_potter_ell881/Book3.txt')\n",
        "book4 = read_book('drive/MyDrive/Harry_potter_ell881/Book4.txt')\n",
        "book5 = read_book('drive/MyDrive/Harry_potter_ell881/Book5.txt')\n",
        "book6 = read_book('drive/MyDrive/Harry_potter_ell881/Book6.txt')\n",
        "char_list = pd.read_csv('drive/MyDrive/Harry_potter_ell881/characters_list.csv')\n",
        "\n",
        "\n",
        "train_set = book1 + book2 + book3 + book4 + book5 + book6"
      ]
    },
    {
      "cell_type": "code",
      "execution_count": null,
      "metadata": {
        "colab": {
          "base_uri": "https://localhost:8080/",
          "height": 35
        },
        "id": "5eCZg9ZeXR7v",
        "outputId": "f30d65f6-9146-4f40-ab0a-c2ee41e36d89"
      },
      "outputs": [
        {
          "data": {
            "application/vnd.google.colaboratory.intrinsic+json": {
              "type": "string"
            },
            "text/plain": [
              "'/ the boy who lived mr. and mrs. dursley, of number four, privet drive, were proud to say that they '"
            ]
          },
          "execution_count": 5,
          "metadata": {},
          "output_type": "execute_result"
        }
      ],
      "source": [
        "# Convert to lower case\n",
        "train_set = train_set.lower()\n",
        "train_set[:100]"
      ]
    },
    {
      "cell_type": "code",
      "execution_count": null,
      "metadata": {
        "colab": {
          "base_uri": "https://localhost:8080/",
          "height": 35
        },
        "id": "RDdYtGnh8FaV",
        "outputId": "63c7a0b8-4ef8-4188-8cc1-0511550418e6"
      },
      "outputs": [
        {
          "data": {
            "application/vnd.google.colaboratory.intrinsic+json": {
              "type": "string"
            },
            "text/plain": [
              "'/ the boy who lived mr. and mrs. dursley, of number four, privet drive, were proud to say that they '"
            ]
          },
          "execution_count": 6,
          "metadata": {},
          "output_type": "execute_result"
        }
      ],
      "source": [
        "# Remove '\\n' from the corpus\n",
        "import re\n",
        "train_set_clean = re.sub('\\n','',train_set)\n",
        "# train_set_clean[:100]"
      ]
    },
    {
      "cell_type": "code",
      "execution_count": null,
      "metadata": {
        "colab": {
          "base_uri": "https://localhost:8080/",
          "height": 35
        },
        "id": "h8o0KGm_RVAD",
        "outputId": "0257cc44-2428-4faf-fdea-059e2b52301d"
      },
      "outputs": [
        {
          "data": {
            "application/vnd.google.colaboratory.intrinsic+json": {
              "type": "string"
            },
            "text/plain": [
              "' the boy who lived mr. and mrs. dursley, of number four, privet drive, were proud to say that they w'"
            ]
          },
          "execution_count": 7,
          "metadata": {},
          "output_type": "execute_result"
        }
      ],
      "source": [
        "import string\n",
        "\n",
        "for p in string.punctuation:\n",
        "    if p not in ['.',',']: \n",
        "        train_set_clean = train_set_clean.replace(p,'')\n",
        "# train_set_clean[:100]"
      ]
    },
    {
      "cell_type": "code",
      "execution_count": null,
      "metadata": {
        "id": "vVrCv6OqQN_z"
      },
      "outputs": [],
      "source": [
        "train_set_clean = re.sub(\"page[a-z0-9\\s]*j.k. rowling\",'', train_set_clean)"
      ]
    },
    {
      "cell_type": "code",
      "execution_count": null,
      "metadata": {
        "id": "28fZpAgMj9Sr"
      },
      "outputs": [],
      "source": [
        "# train_set_clean.count('page')"
      ]
    },
    {
      "cell_type": "code",
      "execution_count": null,
      "metadata": {
        "colab": {
          "base_uri": "https://localhost:8080/"
        },
        "id": "Ildr2VN-Smev",
        "outputId": "4446ce9d-d358-4605-9427-bc436a10f509"
      },
      "outputs": [
        {
          "name": "stderr",
          "output_type": "stream",
          "text": [
            "[nltk_data] Downloading package punkt to /root/nltk_data...\n",
            "[nltk_data]   Unzipping tokenizers/punkt.zip.\n"
          ]
        },
        {
          "data": {
            "text/plain": [
              "True"
            ]
          },
          "execution_count": 9,
          "metadata": {},
          "output_type": "execute_result"
        }
      ],
      "source": [
        "from nltk import word_tokenize, sent_tokenize\n",
        "nltk.download('punkt')"
      ]
    },
    {
      "cell_type": "code",
      "execution_count": null,
      "metadata": {
        "id": "QR5rLtMLRqIK"
      },
      "outputs": [],
      "source": [
        "hp_sentence_token = sent_tokenize(train_set_clean)\n",
        "# print(hp_sentence_token[:5])"
      ]
    },
    {
      "cell_type": "code",
      "execution_count": null,
      "metadata": {
        "colab": {
          "base_uri": "https://localhost:8080/"
        },
        "id": "SPM4dazr_jza",
        "outputId": "91ee06c9-4d74-42ea-f291-914bd3141a47"
      },
      "outputs": [
        {
          "data": {
            "text/plain": [
              "46394"
            ]
          },
          "execution_count": 12,
          "metadata": {},
          "output_type": "execute_result"
        }
      ],
      "source": [
        "# len(hp_sentence_token)"
      ]
    },
    {
      "cell_type": "code",
      "execution_count": null,
      "metadata": {
        "id": "Qd22900rijje"
      },
      "outputs": [],
      "source": [
        "# puncta =  ['.',',','“','’','”','—','...']\n",
        "# # remove more punctuations\n",
        "# def rem_punc(text):\n",
        "#   text = ' '.join([word for word in text.split() if word not in puncta])\n",
        "#   return text"
      ]
    },
    {
      "cell_type": "code",
      "execution_count": null,
      "metadata": {
        "id": "-kKU66XDVW9F"
      },
      "outputs": [],
      "source": [
        "# for s in hp_token:\n",
        "#   s = rem_punc(s)"
      ]
    },
    {
      "cell_type": "code",
      "execution_count": null,
      "metadata": {
        "id": "of6X-2I3nnLe"
      },
      "outputs": [],
      "source": [
        "# corpus = ' '.join(hp_token)"
      ]
    },
    {
      "cell_type": "code",
      "execution_count": null,
      "metadata": {
        "colab": {
          "base_uri": "https://localhost:8080/"
        },
        "id": "_eZ49lcdz_Pl",
        "outputId": "46601e58-8bc1-4f8b-cd0c-ab98efb1a00e"
      },
      "outputs": [
        {
          "data": {
            "text/plain": [
              "22330"
            ]
          },
          "execution_count": 40,
          "metadata": {},
          "output_type": "execute_result"
        }
      ],
      "source": [
        "# v = word_tokenize(train_set_clean)\n",
        "# v = set(v)\n",
        "# vocab_size = len(v)\n",
        "# vocab_size"
      ]
    },
    {
      "cell_type": "code",
      "execution_count": null,
      "metadata": {
        "id": "lYD0JjHmXq5o"
      },
      "outputs": [],
      "source": [
        "from itertools import islice\n",
        "import functools\n",
        "import operator\n",
        "import random, collections\n",
        "import math\n",
        "import numpy as np\n",
        "import heapq\n",
        "import pprint\n",
        "import time\n",
        "\n",
        "def window(seq, ngram):\n",
        "\tit = iter(seq)\n",
        "\tresult = tuple(islice(it, ngram))\n",
        "\tif len(result) == ngram:\n",
        "\t\tyield result\n",
        "\tfor elem in it:\n",
        "\t\tresult = result[1:] + (elem,)\n",
        "\t\tyield result\n",
        "\n",
        "def flatten(container):\n",
        "\tfor i in container:\n",
        "\t\tif isinstance(i, (list,tuple)):\n",
        "\t\t\tfor j in flatten(i):\n",
        "\t\t\t\tyield j\n",
        "\t\telse:\n",
        "\t\t\tyield i\n",
        "\n",
        "\n",
        "\n",
        "class LanguageModel:\n",
        "\tdef __init__(self, n, backoff_alpha = 0.4, smoothing_k = 0.01):\n",
        "\t\tself.ngram = n\n",
        "\t\tself.vocabulary = set()\n",
        "\t\tself.count = {}\n",
        "\t\tself.backoff_count = [{} for _ in range(n+1)]\n",
        "\t\tself.smoothing_k = smoothing_k\n",
        "\t\tself.backoff_alpha = backoff_alpha\n",
        "\t\tself.backoff_feedback = 0.0\n",
        "\n",
        "\tdef train(self, token_sequences):\n",
        "\t\tself.vocabulary = set(flatten(token_sequences))\n",
        "\t\tself.vocabulary.add(None)\n",
        "\t\tfor item in token_sequences:\n",
        "\t\t\tfor subitem in self.get_ngrams(item, self.ngram):\n",
        "\t\t\t\tif subitem[:self.ngram-1] not in self.count:\n",
        "\t\t\t\t\tself.count[subitem[:self.ngram-1]] = {subitem[self.ngram-1:][0]: 1}\n",
        "\t\t\t\telse:\n",
        "\t\t\t\t\tif subitem[self.ngram-1:][0] in self.count[subitem[:self.ngram-1]]:\n",
        "\t\t\t\t\t\tself.count[subitem[:self.ngram-1]][subitem[self.ngram-1:][0]] += 1\n",
        "\t\t\t\t\telse:\n",
        "\t\t\t\t\t\tself.count[subitem[:self.ngram-1]][subitem[self.ngram-1:][0]] = 1\n",
        "\n",
        "\tdef backoff_context(self, token_sequences):\n",
        "\t\tn = self.ngram\n",
        "\t\tself.vocabulary = set(flatten(token_sequences))\n",
        "\t\tself.vocabulary.add(None)\n",
        "\t\tfor item in token_sequences:\n",
        "\t\t\tfor i in range(1,n+1):\n",
        "\t\t\t\tfor subitem in self.get_ngrams(item, i):\n",
        "\t\t\t\t\tif subitem[:i-1] not in self.backoff_count[i]:\n",
        "\t\t\t\t\t\tself.backoff_count[i][subitem[:i-1]] = {subitem[i-1:][0]: 1}\n",
        "\t\t\t\t\telse:\n",
        "\t\t\t\t\t\tif subitem[i-1:][0] in self.backoff_count[i][subitem[:i-1]]:\n",
        "\t\t\t\t\t\t\tself.backoff_count[i][subitem[:i-1]][subitem[i-1:][0]] += 1\n",
        "\t\t\t\t\t\telse:\n",
        "\t\t\t\t\t\t\tself.backoff_count[i][subitem[:i-1]][subitem[i-1:][0]] = 1\n",
        "\t\n",
        "\n",
        "\tdef smoothing_good_turing(self):\n",
        "\t\tnumb_token = {}\n",
        "\t\tfor item in self.count:\n",
        "\t\t\tfor key, value in self.count[item].items():\n",
        "\t\t\t\tif value in numb_token:\n",
        "\t\t\t\t\tnumb_token[value] += 1\n",
        "\t\t\t\telse:\n",
        "\t\t\t\t\tnumb_token[value] = 1\n",
        "\t\t\n",
        "\t\tfor item in self.count:\n",
        "\t\t\tfor k,v in self.count[item].items():\n",
        "\t\t\t\tif v+1 in numb_token:\n",
        "\t\t\t\t\tself.count[item][k] = (v+1)*numb_token[v+1] / numb_token[v]\n",
        "\t\t\t\telse:\n",
        "\t\t\t\t\tself.count[item][k] = 0\n",
        "\t\n",
        "\tdef normalize(self, word_counts):\n",
        "\t\tprob_dict = {}\n",
        "\t\ttotal = sum(word_counts.values())\n",
        "\t\tfor key, value in word_counts.items():\n",
        "\t\t\tprob_dict[key] = value/total\n",
        "\t\t\n",
        "\t\treturn prob_dict\n",
        "\n",
        "\tdef normalize_add_k(self, word_counts):\n",
        "\t\tprob_dict = {}\n",
        "\t\ttotal = sum(word_counts.values())\n",
        "\t\tfor key, value in word_counts.items():\n",
        "\t\t\tprob_dict[key] = (value + self.smoothing_k) / (total + self.vocabulary*self.smoothing_k)\n",
        "\n",
        "\tdef p_next(self, tokens):\n",
        "\t\ttokens = tokens[-(self.ngram-1):]\n",
        "\t\tif self.ngram != 1:\n",
        "\t\t\treturn self.normalize_add_k(self.count[tuple(tokens)])\n",
        "\t\telse:\n",
        "\t\t\ttotal = sum(list(self.count[()].values()))\n",
        "\t\t\trand_pair = random.choice( list(self.count[()].items()))\n",
        "\t\t\trand_prob = rand_pair[1] / total #len(self.vocabulary)\n",
        "\t\t\treturn {rand_pair[0]:rand_prob}\n",
        "\n",
        "\tdef generate(self, length = 33):\n",
        "\t\ttokens = [None]* (self.ngram-1)\n",
        "\t\tfor _ in range(length):\n",
        "\t\t\ttemp_dict = self.p_next(tokens)\n",
        "\t\t\tif self.ngram == 1:\n",
        "\t\t\t\ttotal = sum(list(temp_dict.values()))\n",
        "\t\t\t\tfor key, value in temp_dict.items():\n",
        "\t\t\t\t\ttemp_dict[key] /= total\n",
        "\t\t\ttokens.append(self.sample(temp_dict)[0])\n",
        "\t\treturn tokens\t\n",
        "\n",
        "\tdef sample(self, distribution):\n",
        "\t\tk = np.random.choice(list(distribution.keys()), 1, p = list(distribution.values()))[0]\n",
        "\t\tv = distribution[k]\n",
        "\t\treturn (k, v)\n",
        "\t\t\t\n",
        "\tdef perplexity(self, data):\n",
        "\t\tn = self.ngram\n",
        "\t\tperplexity = 0\n",
        "\t\tnum = 0\n",
        "\t\tfor item in data:\n",
        "\t\t\tfor subitem in self.get_ngrams(item, n):\n",
        "\t\t\t\tnum += 1\n",
        "\t\t\t\ttemp = self.ngram_probability_kn(subitem[:self.ngram-1], subitem[self.ngram-1:][0])\n",
        "\t\t\t\tif temp != 0:\n",
        "\t\t\t\t\tperplexity += math.log(temp, 2)\n",
        "\t\t# print(perplexity)\n",
        "\t\tperplexity = math.pow(2, -1*(perplexity/num))\n",
        "\t\treturn perplexity, num\n",
        "\n",
        "\tdef ngram_probability(self, ngram, word):\n",
        "\t\tif ngram in self.count:\n",
        "\t\t\tif word in self.count[ngram] and self.count[ngram][word] > 0:\n",
        "\t\t\t\tcount = self.count[ngram][word]\n",
        "\t\t\t\ttotal = sum(list(self.count[ngram].values()))\n",
        "\t\t\telse:\n",
        "\t\t\t\tcount = 1\n",
        "\t\t\t\ttotal = sum(list(self.count[ngram].values()))+1\n",
        "\t\t\tif total == 0:\n",
        "\t\t\t\tprint(self.count[ngram])\n",
        "\t\t\t\tprint(self.count[ngram].values())\n",
        "\t\t\tprob = count/ total\n",
        "\t\telse:\n",
        "\t\t\tprob = random.random() / len(self.vocabulary)\n",
        "\t\treturn prob\n",
        "\n",
        "\tdef ngram_probability_backoff(self, ngram, word):\n",
        "\t\ti = self.ngram\n",
        "\t\twhile ngram not in self.backoff_count[i]:\n",
        "\t\t\ti -= 1\n",
        "\t\t\tngram = ngram[1:]\n",
        "\t\tif i > 0:\n",
        "\t\t\tif word in self.backoff_count[i][ngram]:\n",
        "\t\t\t\tcount = self.backoff_count[i][ngram][word]\n",
        "\t\t\t\ttotal = sum(self.backoff_count[i][ngram].values())\n",
        "\t\t\telse:\n",
        "\t\t\t\tcount = 1\n",
        "\t\t\t\ttotal = sum(self.backoff_count[i][ngram].values()) + 1\n",
        "\t\t\tprob = count / total\n",
        "\t\telse:\n",
        "\t\t\tprob = random.random() / len(self.vocabulary)\n",
        "\t\tif i != self.ngram:\n",
        "\t\t\t\tself.backoff_feedback += 1 / self.backoff_alpha\n",
        "\t\t\t\t# print('feed: ',self.backoff_feedback)\n",
        "\t\t\t\tprob *= self.backoff_alpha\n",
        "\t\treturn prob\n",
        "\t\t\n",
        "\tdef ngram_probability_interpolation(self, ngram, word):\n",
        "\t\tn = self.ngram\n",
        "\t\tprob = 0.0\n",
        "\t\tfor i in range(n,0,-1):\n",
        "\t\t\t# if(i == 1):\n",
        "\t\t\t# \tprint(ngram)\n",
        "\t\t\tif ngram in self.backoff_count[i]:\n",
        "\t\t\t\tif word in self.backoff_count[i][ngram]:\n",
        "\t\t\t\t\tcount = self.backoff_count[i][ngram][word]\n",
        "\t\t\t\t\t# if(i == 1):\n",
        "\t\t\t\t\t# \tprint('count ', count)\n",
        "\t\t\t\t\ttotal = sum(self.backoff_count[i][ngram].values())\n",
        "\t\t\t\t\t# if(i == 1):\n",
        "\t\t\t\t\t# \tprint('total ', total)\n",
        "\t\t\t\telse:\n",
        "\t\t\t\t\tcount = 1\n",
        "\t\t\t\t\ttotal = sum(self.backoff_count[i][ngram].values()) + 1\n",
        "\t\t\t\tprob += (1/n) * (count / total)\n",
        "\t\t\telse:\n",
        "\t\t\t\tprob += (1/n) * (random.random() / len(self.vocabulary))\n",
        "\t\t\tngram = ngram[1:]\n",
        "\t\treturn prob\n",
        "\n",
        "\tdef ngram_probability_kn(self, ngram, word):\n",
        "\t\td = 0.75\n",
        "\t\tword_appear = 0\n",
        "\t\ttotal_contexts = 0\n",
        "\t\tfor item in self.count.items():\n",
        "\t\t\tfor key,value in item[1].items():\n",
        "\t\t\t\ttotal_contexts += 1\n",
        "\t\t\t\tif key == word:\n",
        "\t\t\t\t\tword_appear += 1\n",
        "\n",
        "\t\tif ngram in self.count:\n",
        "\t\t\tif word in self.count[ngram]:\n",
        "\t\t\t\tcount = self.count[ngram][word]\n",
        "\t\t\t\ttotal = sum(list(self.count[ngram].values()))\n",
        "\t\t\t\taux = max(count - d, 0)/ total + ((d *len(list(self.count[ngram].values()))) / total) * (word_appear/total_contexts)\n",
        "\t\t\telse:\n",
        "\t\t\t\ttotal = sum(list(self.count[ngram].values()))\n",
        "\t\t\t\taux = ((d *len(list(self.count[ngram].values()))) / total) * (word_appear/total_contexts)\n",
        "\t\t\t# if total == 0:\n",
        "\t\t\t\t# print(self.count[ngram])\n",
        "\t\t\t\t# print(self.count[ngram].values())\n",
        "\t\t\tprob = aux\n",
        "\t\telse:\n",
        "\t\t\tprob = random.random() / len(self.vocabulary)\n",
        "\t\treturn prob\n",
        "\n",
        "\tdef get_ngrams(self, token, n):\n",
        "\t\tsequence = []\n",
        "\t\tif not token:\n",
        "\t\t\treturn sequence\n",
        "\t\tif n!=1:\n",
        "\t\t\ttoken = [None]*(n-1) + token + [None]*(n-1)\n",
        "\t\telse:\n",
        "\t\t\ttoken = token + [None]\n",
        "\t\tresult = window(token, n)\n",
        "\t\tfor r in result:\n",
        "\t\t\tsequence.append(r)\n",
        "\t\treturn sequence"
      ]
    },
    {
      "cell_type": "markdown",
      "metadata": {
        "id": "z2T3JxXmjvky"
      },
      "source": [
        "Generation of Sentences"
      ]
    },
    {
      "cell_type": "code",
      "execution_count": null,
      "metadata": {
        "id": "lQNawOOuap_D"
      },
      "outputs": [],
      "source": [
        "model = LanguageModel(6)\n",
        "nested_train_list = []\n",
        "for s in hp_sentence_token:\n",
        "  words = word_tokenize(s)\n",
        "  puncta = ['.',',','“','’','”','—','...']\n",
        "  words = [w for w in words if w not in puncta]\n",
        "  # if(words.count('explode.') != 0):\n",
        "  #   print(words)\n",
        "  nested_train_list.append(words)\n",
        "model.train(nested_train_list)\n",
        "# print(model.count.items())\n",
        "k = model.generate()\n",
        "result = ''\n",
        "for x in k:\n",
        "  if x != None:\n",
        "    result += x + ' '\n",
        "print(result)"
      ]
    },
    {
      "cell_type": "markdown",
      "metadata": {
        "id": "YR8N1cPQeIYt"
      },
      "source": [
        "Testing"
      ]
    },
    {
      "cell_type": "code",
      "execution_count": null,
      "metadata": {
        "id": "UTstjddD_aGb"
      },
      "outputs": [],
      "source": [
        "test_set = read_book('drive/MyDrive/Harry_potter_ell881/Book7.txt')\n",
        "test_set = test_set.lower()\n",
        "test_set_clean = re.sub('\\n','',test_set)\n",
        "\n",
        "# For loop to replace each punctuation mark with None in the corpus\n",
        "for p in string.punctuation:\n",
        "    # not removed in the corpus, as it is used to differentiate the sentences\n",
        "    if p not in ['.',',']: \n",
        "        test_set_clean = test_set_clean.replace(p,'')\n",
        "\n",
        "test_set_clean = re.sub(\"page[a-z0-9\\s]*j.k. rowling\",'', test_set_clean)\n",
        "\n",
        "test_token = sent_tokenize(test_set_clean)\n",
        "\n",
        "nested_test_list = []\n",
        "for s in test_token:\n",
        "  words = word_tokenize(s)\n",
        "  puncta = ['.',',','“','’','”','—','...']\n",
        "  words = [w for w in words if w not in puncta]\n",
        "  nested_test_list.append(words)"
      ]
    },
    {
      "cell_type": "code",
      "execution_count": null,
      "metadata": {
        "id": "hUJ2zkw907wN"
      },
      "outputs": [],
      "source": [
        "nested_train_list = []\n",
        "for s in hp_sentence_token:\n",
        "  words = word_tokenize(s)\n",
        "  puncta = ['.',',','“','’','”','—','...']\n",
        "  words = [w for w in words if w not in puncta]\n",
        "  nested_train_list.append(words)"
      ]
    },
    {
      "cell_type": "code",
      "execution_count": null,
      "metadata": {
        "id": "adH-JaPuxo_i"
      },
      "outputs": [],
      "source": [
        "ng = [1,2,3,4,5]\n",
        "ppl_scores = []\n",
        "for i in range(1,6):\n",
        "  model = LanguageModel(i)\n",
        "  model.train(nested_train_list)\n",
        "  avg_perplexity_score = 0.0\n",
        "  avg_perplexity_score, ngram_count = model.perplexity(nested_test_list)\n",
        "  ppl_scores.append(avg_perplexity_score)"
      ]
    },
    {
      "cell_type": "code",
      "execution_count": null,
      "metadata": {
        "colab": {
          "base_uri": "https://localhost:8080/",
          "height": 279
        },
        "id": "G1XnFXrgZplq",
        "outputId": "5a7ddfb8-cc3e-465a-9f1e-3c2a6dc55b4c"
      },
      "outputs": [
        {
          "data": {
            "image/png": "[encoded data removed]",
            "text/plain": [
              "<Figure size 432x288 with 1 Axes>"
            ]
          },
          "metadata": {
            "needs_background": "light"
          },
          "output_type": "display_data"
        }
      ],
      "source": [
        "plt.plot(ng, ppl_scores)\n",
        "plt.xlabel(\"N gram\")\n",
        "plt.ylabel(\"Perplexity Score\")\n",
        "plt.show()"
      ]
    },
    {
      "cell_type": "code",
      "execution_count": null,
      "metadata": {
        "colab": {
          "base_uri": "https://localhost:8080/",
          "height": 1000
        },
        "id": "wRskmCJyZ_fM",
        "outputId": "a5e10449-4953-4307-9874-093c008e3687"
      },
      "outputs": [
        {
          "name": "stdout",
          "output_type": "stream",
          "text": [
            "Training started...\n",
            "1\n",
            "22324\n",
            "Training started...\n",
            "Training 2000 tokens\n",
            "Training 5000 tokens\n",
            "Training 6000 tokens\n",
            "Training 6000 tokens\n",
            "Training 7000 tokens\n",
            "Training 7000 tokens\n",
            "Training 9000 tokens\n",
            "Training 9000 tokens\n",
            "Training 9000 tokens\n",
            "Training 9000 tokens\n",
            "Training 9000 tokens\n",
            "Training 9000 tokens\n",
            "Training 9000 tokens\n",
            "Training 10000 tokens\n",
            "Training 10000 tokens\n",
            "Training 11000 tokens\n",
            "Training 11000 tokens\n",
            "Training 11000 tokens\n",
            "Training 13000 tokens\n",
            "Training 13000 tokens\n",
            "Training 13000 tokens\n",
            "Training 15000 tokens\n",
            "Training 15000 tokens\n",
            "Training 15000 tokens\n",
            "Training 15000 tokens\n",
            "Training 15000 tokens\n",
            "Training 17000 tokens\n",
            "Training 18000 tokens\n",
            "Training 18000 tokens\n",
            "Training 18000 tokens\n",
            "Training 18000 tokens\n",
            "Training 18000 tokens\n",
            "Training 18000 tokens\n",
            "Training 18000 tokens\n",
            "Training 18000 tokens\n",
            "Training 19000 tokens\n",
            "Training 20000 tokens\n",
            "Training 22000 tokens\n",
            "22324\n",
            "22324\n",
            "Training started...\n",
            "Training 39000 tokens\n",
            "Training 47000 tokens\n",
            "Training 51000 tokens\n",
            "Training 63000 tokens\n",
            "Training 76000 tokens\n",
            "Training 85000 tokens\n",
            "Training 86000 tokens\n",
            "Training 90000 tokens\n",
            "Training 98000 tokens\n",
            "Training 99000 tokens\n",
            "Training 106000 tokens\n",
            "Training 108000 tokens\n",
            "Training 110000 tokens\n",
            "Training 114000 tokens\n",
            "Training 118000 tokens\n",
            "Training 126000 tokens\n",
            "Training 128000 tokens\n",
            "Training 128000 tokens\n",
            "Training 135000 tokens\n",
            "Training 142000 tokens\n",
            "Training 144000 tokens\n",
            "Training 144000 tokens\n",
            "Training 148000 tokens\n",
            "Training 154000 tokens\n",
            "Training 191000 tokens\n",
            "Training 192000 tokens\n",
            "Training 195000 tokens\n",
            "Training 199000 tokens\n",
            "Training 200000 tokens\n",
            "Training 201000 tokens\n",
            "Training 201000 tokens\n",
            "Training 203000 tokens\n",
            "Training 207000 tokens\n",
            "Training 211000 tokens\n",
            "Training 211000 tokens\n",
            "Training 215000 tokens\n",
            "Training 231000 tokens\n",
            "Training 234000 tokens\n",
            "Training 243000 tokens\n",
            "Training 247000 tokens\n",
            "Training 252000 tokens\n",
            "Training 252000 tokens\n",
            "Training 259000 tokens\n",
            "Training 259000 tokens\n",
            "Training 260000 tokens\n",
            "Training 260000 tokens\n",
            "Training 260000 tokens\n",
            "Training 260000 tokens\n",
            "267538\n",
            "22324\n",
            "Training started...\n",
            "Training 1000 tokens\n",
            "Training 16000 tokens\n",
            "Training 21000 tokens\n",
            "Training 22000 tokens\n",
            "Training 31000 tokens\n",
            "Training 45000 tokens\n",
            "Training 48000 tokens\n",
            "Training 99000 tokens\n",
            "Training 100000 tokens\n",
            "Training 115000 tokens\n",
            "Training 124000 tokens\n",
            "Training 147000 tokens\n",
            "Training 159000 tokens\n",
            "Training 161000 tokens\n",
            "Training 164000 tokens\n",
            "Training 174000 tokens\n",
            "Training 201000 tokens\n",
            "Training 207000 tokens\n",
            "Training 211000 tokens\n",
            "Training 228000 tokens\n",
            "Training 244000 tokens\n",
            "Training 255000 tokens\n",
            "Training 258000 tokens\n",
            "Training 291000 tokens\n",
            "Training 314000 tokens\n",
            "Training 315000 tokens\n",
            "Training 317000 tokens\n",
            "Training 335000 tokens\n",
            "Training 398000 tokens\n",
            "Training 421000 tokens\n",
            "Training 423000 tokens\n",
            "Training 436000 tokens\n",
            "Training 460000 tokens\n",
            "Training 512000 tokens\n",
            "Training 514000 tokens\n",
            "Training 524000 tokens\n",
            "Training 539000 tokens\n",
            "Training 539000 tokens\n",
            "Training 567000 tokens\n",
            "Training 577000 tokens\n",
            "Training 581000 tokens\n",
            "Training 587000 tokens\n",
            "Training 599000 tokens\n",
            "Training 603000 tokens\n",
            "611992\n",
            "22324\n",
            "Training started...\n",
            "Training 11000 tokens\n",
            "Training 17000 tokens\n",
            "Training 25000 tokens\n",
            "Training 38000 tokens\n",
            "Training 39000 tokens\n",
            "Training 51000 tokens\n",
            "Training 70000 tokens\n",
            "Training 95000 tokens\n",
            "Training 123000 tokens\n",
            "Training 127000 tokens\n",
            "Training 145000 tokens\n",
            "Training 151000 tokens\n",
            "Training 169000 tokens\n",
            "Training 175000 tokens\n",
            "Training 178000 tokens\n",
            "Training 217000 tokens\n",
            "Training 224000 tokens\n",
            "Training 227000 tokens\n",
            "Training 229000 tokens\n",
            "Training 257000 tokens\n",
            "Training 268000 tokens\n",
            "Training 311000 tokens\n",
            "Training 345000 tokens\n",
            "Training 349000 tokens\n",
            "Training 360000 tokens\n",
            "Training 388000 tokens\n",
            "Training 401000 tokens\n",
            "Training 413000 tokens\n",
            "Training 423000 tokens\n",
            "Training 443000 tokens\n",
            "Training 488000 tokens\n",
            "Training 495000 tokens\n",
            "Training 502000 tokens\n",
            "Training 515000 tokens\n",
            "Training 551000 tokens\n",
            "Training 563000 tokens\n",
            "Training 587000 tokens\n",
            "Training 588000 tokens\n",
            "Training 599000 tokens\n",
            "Training 606000 tokens\n",
            "Training 626000 tokens\n",
            "Training 630000 tokens\n",
            "Training 633000 tokens\n",
            "Training 643000 tokens\n",
            "Training 661000 tokens\n",
            "Training 679000 tokens\n",
            "Training 683000 tokens\n",
            "Training 688000 tokens\n",
            "Training 695000 tokens\n",
            "Training 734000 tokens\n",
            "Training 759000 tokens\n",
            "Training 764000 tokens\n",
            "Training 785000 tokens\n",
            "Training 799000 tokens\n",
            "814055\n",
            "22324\n"
          ]
        },
        {
          "data": {
            "image/png": "[encoded data removed]",
            "text/plain": [
              "<Figure size 432x288 with 1 Axes>"
            ]
          },
          "metadata": {
            "needs_background": "light"
          },
          "output_type": "display_data"
        }
      ],
      "source": [
        "# Smooth Good Turing\n",
        "ng = [1,2,3,4,5]\n",
        "ppl_scores = []\n",
        "for i in range(1,6):\n",
        "  model = LanguageModel(i)\n",
        "  model.train(nested_train_list)\n",
        "  model.smoothing_good_turing()\n",
        "  avg_perplexity_score = 0.0\n",
        "  avg_perplexity_score, ngram_count = model.perplexity(nested_test_list)\n",
        "  ppl_scores.append(avg_perplexity_score)\n",
        "plt.plot(ng, ppl_scores)\n",
        "plt.xlabel(\"N gram\")\n",
        "plt.ylabel(\"Perplexity Score\")\n",
        "plt.show()"
      ]
    },
    {
      "cell_type": "code",
      "execution_count": null,
      "metadata": {
        "colab": {
          "base_uri": "https://localhost:8080/",
          "height": 1000
        },
        "id": "TbIzuZ63Hd5A",
        "outputId": "94de6167-0d99-47d2-9fe1-8fde52f35dd3"
      },
      "outputs": [
        {
          "name": "stdout",
          "output_type": "stream",
          "text": [
            "Training started...\n",
            "Training started...\n",
            "Training started...\n",
            "Training started...\n",
            "Training started...\n",
            "[799.5095369240573, 95.21445417031505, 96.54660320926641, 939.1735916713009, 4998.520066943883]\n"
          ]
        },
        {
          "data": {
            "image/png": "[encoded data removed]",
            "text/plain": [
              "<Figure size 432x288 with 1 Axes>"
            ]
          },
          "metadata": {
            "needs_background": "light"
          },
          "output_type": "display_data"
        },
        {
          "name": "stdout",
          "output_type": "stream",
          "text": [
            "Training started...\n",
            "Training started...\n",
            "Training started...\n",
            "Training started...\n",
            "Training started...\n",
            "[799.5095369240573, 95.18276750480216, 96.67034428553566, 939.5714216127049, 5002.017087995679]\n"
          ]
        },
        {
          "data": {
            "image/png": "[encoded data removed]",
            "text/plain": [
              "<Figure size 432x288 with 1 Axes>"
            ]
          },
          "metadata": {
            "needs_background": "light"
          },
          "output_type": "display_data"
        },
        {
          "name": "stdout",
          "output_type": "stream",
          "text": [
            "Training started...\n",
            "Training started...\n",
            "Training started...\n",
            "Training started...\n",
            "Training started...\n",
            "[799.5095369240573, 95.18090189458428, 96.58771919023621, 941.3353639515043, 5006.919699560801]\n"
          ]
        },
        {
          "data": {
            "image/png": "[encoded data removed]",
            "text/plain": [
              "<Figure size 432x288 with 1 Axes>"
            ]
          },
          "metadata": {
            "needs_background": "light"
          },
          "output_type": "display_data"
        },
        {
          "name": "stdout",
          "output_type": "stream",
          "text": [
            "Training started...\n",
            "Training started...\n",
            "Training started...\n",
            "Training started...\n",
            "Training started...\n",
            "[799.5095369240573, 95.11913081486108, 96.36256524776877, 940.0143097263095, 4990.673312565771]\n"
          ]
        },
        {
          "data": {
            "image/png": "[encoded data removed]",
            "text/plain": [
              "<Figure size 432x288 with 1 Axes>"
            ]
          },
          "metadata": {
            "needs_background": "light"
          },
          "output_type": "display_data"
        },
        {
          "name": "stdout",
          "output_type": "stream",
          "text": [
            "Training started...\n",
            "Training started...\n",
            "Training started...\n",
            "Training started...\n",
            "Training started...\n",
            "[799.5095369240573, 95.20216329535486, 96.72801433923811, 939.7308845334893, 4999.899724568795]\n"
          ]
        },
        {
          "data": {
            "image/png": "[encoded data removed]",
            "text/plain": [
              "<Figure size 432x288 with 1 Axes>"
            ]
          },
          "metadata": {
            "needs_background": "light"
          },
          "output_type": "display_data"
        }
      ],
      "source": [
        "# Add-k\n",
        "k_val = [0.1,0.2,0.4,0.6,0.8]\n",
        "for k in k_val:\n",
        "  ng = [1,2,3,4,5]\n",
        "  ppl_scores = []\n",
        "  for i in range(1,6):\n",
        "    model = LanguageModel(i)\n",
        "    model.train(nested_train_list)\n",
        "    avg_perplexity_score = 0.0\n",
        "    avg_perplexity_score, ngram_count = model.perplexity(nested_test_list)\n",
        "    ppl_scores.append(avg_perplexity_score)\n",
        "  print(ppl_scores)\n",
        "  plt.plot(ng, ppl_scores)\n",
        "  plt.xlabel(\"N gram\")\n",
        "  plt.ylabel(\"Perplexity Score\")\n",
        "  plt.title('k = %f' %k)\n",
        "  plt.show()"
      ]
    },
    {
      "cell_type": "code",
      "execution_count": null,
      "metadata": {
        "id": "Hs3EhOmScadW"
      },
      "outputs": [],
      "source": [
        "backoff_alpha = 1\n",
        "lr = 1\n",
        "for _ in range(100):\n",
        "  model = LanguageModel(3, backoff_alpha)\n",
        "  model.backoff_context(nested_train_list)\n",
        "  avg_perplexity_score = 0.0\n",
        "\n",
        "  avg_perplexity_score, ngram_count = model.perplexity(nested_test_list)\n",
        "  print(model.backoff_feedback)\n",
        "  backoff_alpha = backoff_alpha + lr*(1/ngram_count) * model.backoff_feedback\n",
        "\n",
        "  print(avg_perplexity_score, backoff_alpha)"
      ]
    },
    {
      "cell_type": "code",
      "execution_count": null,
      "metadata": {
        "colab": {
          "base_uri": "https://localhost:8080/"
        },
        "id": "7m5OqzHWgDCP",
        "outputId": "db7d46c3-48fb-4867-97a0-fcbc160fbdc2"
      },
      "outputs": [
        {
          "data": {
            "text/plain": [
              "1.5532421629279198"
            ]
          },
          "execution_count": 23,
          "metadata": {},
          "output_type": "execute_result"
        }
      ],
      "source": [
        "backoff_alpha"
      ]
    },
    {
      "cell_type": "code",
      "execution_count": null,
      "metadata": {
        "colab": {
          "base_uri": "https://localhost:8080/",
          "height": 317
        },
        "id": "OjmNDWKICgyi",
        "outputId": "599f5b72-97ec-4d56-daf4-b73658d8c491"
      },
      "outputs": [
        {
          "name": "stdout",
          "output_type": "stream",
          "text": [
            "[799.5095369240573, 90.03571469775375, 24.574652323376664, 19.399709292163738, 20.137741741832937, 20.113875995122854, 19.59412118614167, 18.979996369721675, 18.385729775408493]\n"
          ]
        },
        {
          "data": {
            "image/png": "[encoded data removed]",
            "text/plain": [
              "<Figure size 432x288 with 1 Axes>"
            ]
          },
          "metadata": {
            "needs_background": "light"
          },
          "output_type": "display_data"
        }
      ],
      "source": [
        "# Backoff\n",
        "ng = [1,2,3,4,5,6,7,8,9]\n",
        "ppl_scores = []\n",
        "for i in range(1,10):\n",
        "  model = LanguageModel(i, backoff_alpha = 0.4)\n",
        "  model.backoff_context(nested_train_list)\n",
        "  avg_perplexity_score = 0.0\n",
        "  avg_perplexity_score, ngram_count = model.perplexity(nested_test_list)\n",
        "  ppl_scores.append(avg_perplexity_score)\n",
        "print(ppl_scores)\n",
        "plt.plot(ng, ppl_scores)\n",
        "plt.xlabel(\"N gram\")\n",
        "plt.ylabel(\"Perplexity Score\")\n",
        "plt.show()"
      ]
    },
    {
      "cell_type": "code",
      "execution_count": null,
      "metadata": {
        "colab": {
          "base_uri": "https://localhost:8080/",
          "height": 297
        },
        "id": "KVQ6WOOKiNvZ",
        "outputId": "64af3a02-ed1f-49a2-ab46-3bc4434a3bc1"
      },
      "outputs": [
        {
          "name": "stdout",
          "output_type": "stream",
          "text": [
            "[799.5095369240573, 135.08773582137883, 40.74263705823612, 29.210160184568522, 29.361534783118625]\n"
          ]
        },
        {
          "data": {
            "image/png": "[encoded data removed]",
            "text/plain": [
              "<Figure size 432x288 with 1 Axes>"
            ]
          },
          "metadata": {
            "needs_background": "light"
          },
          "output_type": "display_data"
        }
      ],
      "source": [
        "# Interpolation\n",
        "ng = [1,2,3,4,5]\n",
        "ppl_scores = []\n",
        "for i in range(1,6):\n",
        "  model = LanguageModel(i)\n",
        "  model.backoff_context(nested_train_list)\n",
        "  avg_perplexity_score = 0.0\n",
        "  avg_perplexity_score, ngram_count = model.perplexity(nested_test_list)\n",
        "  ppl_scores.append(avg_perplexity_score)\n",
        "print(ppl_scores)\n",
        "plt.plot(ng, ppl_scores)\n",
        "plt.xlabel(\"N gram\")\n",
        "plt.ylabel(\"Perplexity Score\")\n",
        "plt.show()"
      ]
    },
    {
      "cell_type": "code",
      "execution_count": null,
      "metadata": {
        "id": "VDI9LL2fl2hH"
      },
      "outputs": [],
      "source": [
        "# Kneser Nay\n",
        "ng = [1,2,3,4,5]\n",
        "ppl_scores = []\n",
        "for i in range(1,6):\n",
        "  model = LanguageModel(i)\n",
        "  model.train(nested_train_list)\n",
        "  avg_perplexity_score = 0.0\n",
        "  avg_perplexity_score, ngram_count = model.perplexity(nested_test_list)\n",
        "  ppl_scores.append(avg_perplexity_score)\n",
        "print(ppl_scores)\n",
        "plt.plot(ng, ppl_scores)\n",
        "plt.xlabel(\"N gram\")\n",
        "plt.ylabel(\"Perplexity Score\")\n",
        "plt.show()"
      ]
    },
    {
      "cell_type": "code",
      "execution_count": null,
      "metadata": {
        "id": "Xdr3MLLAto_5"
      },
      "outputs": [],
      "source": []
    }
  ],
  "metadata": {
    "colab": {
      "provenance": []
    },
    "kernelspec": {
      "display_name": "Python 3.11.6 64-bit",
      "language": "python",
      "name": "python3"
    },
    "language_info": {
      "name": "python",
      "version": "3.11.6"
    },
    "vscode": {
      "interpreter": {
        "hash": "054c096e4d4b57417bb781656d4f5218b0e3c2d49c7047d1ff7347fb636be8e8"
      }
    }
  },
  "nbformat": 4,
  "nbformat_minor": 0
}
